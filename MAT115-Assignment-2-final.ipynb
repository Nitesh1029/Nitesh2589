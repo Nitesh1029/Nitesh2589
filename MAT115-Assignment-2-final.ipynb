{
 "cells": [
  {
   "cell_type": "markdown",
   "metadata": {
    "deletable": false,
    "editable": false
   },
   "source": [
    "Before you turn this problem in, make sure everything runs as expected. First, **restart the kernel** (in the menubar, select Kernel$\\rightarrow$Restart) and then **run all cells** (in the menubar, select Cell$\\rightarrow$Run All).\n",
    "\n",
    "Make sure you fill in any place that says `YOUR CODE HERE` or \"YOUR ANSWER HERE\", as well as your name and collaborators below:"
   ]
  },
  {
   "cell_type": "code",
   "execution_count": null,
   "metadata": {},
   "outputs": [],
   "source": [
    "NAME = \"\"\n",
    "COLLABORATORS = \"\""
   ]
  },
  {
   "cell_type": "markdown",
   "metadata": {
    "deletable": false,
    "editable": false
   },
   "source": [
    "# MAT115: Statistics (MAT115/116) - Assignment 2\n",
    "\n",
    "# General Instructions\n",
    "\n",
    "**1** - You can start working on your assignment by answering the questions in the corresponding cells.\n",
    "\n",
    "**2** - If you have any questions , please reach out to your instructor and TAs.\n",
    "\n",
    "**3** - After everything is done, run all cells and convert the notebook to a PDF. Double check to make sure that the PDF is complete with all sections visible. You may convert the notebook to PDF by either of the following methods:\n",
    "\n",
    "a. Go to File $\\rightarrow$ Download as $\\rightarrow$ PDF Via LaTeX(.pdf) and save the pdf file (it takes few minutes. Have patience!).\n",
    "\n",
    "b. Go to File $\\rightarrow$ Print preview. A new tab opens showing the preview. Then, you may print this preview as pdf.\n",
    "\n",
    "**4** - Rename the pdf by your **roll number (ONLY)**. It should be 13 digits in capital letters!\n",
    "\n",
    "**5** - Upload the pdf file in the Google form sent to you. Email attachments will not be accepted."
   ]
  },
  {
   "cell_type": "markdown",
   "metadata": {
    "deletable": false,
    "editable": false
   },
   "source": [
    "# Probability, Simulation, and Distributions\n",
    "\n",
    "In this assignment, you will solve problems related to probability, simulation, and distributions within the context of sports. Sports can be considered random systems due to elements of chance and luck, serving as a fun playground for probability and statistics analyses. Any statistics inferred about players or teams require probabilities obtained through empirical evidenDistributionsce. \n",
    "\n",
    "For this purpose, you will **choose any sport of your choice and obtain some simple data through several available websites**. Together with the set problems below, you should be inspired to perform your own probability analysis based on the data.\n",
    "This is an individual assignment. We will be checking for similarities among submissions and will take plagiarism seriously. We recommend that you choose different variables to measure.\n",
    "\n",
    "\n",
    "**NOTES:**\n",
    "\n",
    "You must upload only one file: A PDF of your entire assignment. Run all cells before converting the notebook to a PDF, and double check to make sure that the PDF is complete with all sections visible. Email attachments will not be accepted. You may convert the notebook to PDF by either of the following methods:\n",
    "\n",
    "1. Go to File $\\rightarrow$ Download as $\\rightarrow$ PDF Via LaTeX(.pdf) and save the pdf file (it takes few minutes. Have patience!).\n",
    "\n",
    "2. Go to File $\\rightarrow$ Print preview. A new tab opens showing the preview. Then, you may print this preview as pdf."
   ]
  },
  {
   "cell_type": "markdown",
   "metadata": {
    "deletable": false,
    "editable": false
   },
   "source": [
    "## Instructions:\n",
    "\n",
    "* Pick a sport. It can be ANY sport at ANY level.\n",
    "* Pick a random variable(s) to measure at the game. For example, you could keep track of the number of shots made and shots missed at a basketball game. You will use the data collected to calculate probabilities in the analysis part(see below). Try to be accurate, but the perfect accuracy of the data is not critical to your analysis and should serve as an inspiration to construct your own probability problem."
   ]
  },
  {
   "cell_type": "markdown",
   "metadata": {
    "deletable": false,
    "editable": false
   },
   "source": [
    "## Analysis\n",
    "Solve the following problems, one of which you will write yourself! Full solutions require clear steps with written justifications as well as an interpretation of the result. There are multiple approaches to solving these problems; you are encouraged to try solving the problems using Python. The `scipy.stats` library includes useful tools such as a z-score calculator."
   ]
  },
  {
   "cell_type": "markdown",
   "metadata": {
    "deletable": false,
    "editable": false
   },
   "source": [
    "### 1. Volleyball [#probability]: \n",
    "“There's only a 35% chance that the team will win the point when they are serving.” Contrast how Frequentists and Bayesians would interpret this statement (<200 words)."
   ]
  },
  {
   "cell_type": "markdown",
   "metadata": {},
   "source": [
    "YOUR ANSWER HERE"
   ]
  },
  {
   "cell_type": "markdown",
   "metadata": {
    "deletable": false,
    "editable": false
   },
   "source": [
    "### 2. Baseball [#distributions]: \n",
    "A rookie is brought to a baseball club on the assumption that he will have a 0.300 batting average based on his past performance. (Batting average is the ratio of the number of hits to the number of times at bat.) In the first year, he comes to bat 400 times during the season and his batting average is .348. Assume that his at-bats can be considered Bernoulli trials with probability 0.3 for success. Give both qualitative and quantitative arguments about what is likely to happen to the player’s batting performance next season. Be sure to discuss the merits of any assumptions that are made."
   ]
  },
  {
   "cell_type": "markdown",
   "metadata": {},
   "source": [
    "YOUR ANSWER HERE"
   ]
  },
  {
   "cell_type": "markdown",
   "metadata": {
    "deletable": false,
    "editable": false
   },
   "source": [
    "### 3. Ski jumping [#distributions]: \n",
    "The distribution of all observed competitive ski jumps in Zakopane, Poland during 2010-2016 is nearly normal with an average jump distance of 120.5 m and a standard deviation of 10 m.\n",
    "\n",
    "**3.1** What is the probability that the next random jumper will jump further than 135 m?"
   ]
  },
  {
   "cell_type": "markdown",
   "metadata": {},
   "source": [
    "YOUR ANSWER HERE"
   ]
  },
  {
   "cell_type": "markdown",
   "metadata": {
    "deletable": false,
    "editable": false
   },
   "source": [
    "**3.2** What is the probability that the mean distance of the next 15 random jumpers is further than 135 m?"
   ]
  },
  {
   "cell_type": "markdown",
   "metadata": {},
   "source": [
    "YOUR ANSWER HERE"
   ]
  },
  {
   "cell_type": "markdown",
   "metadata": {
    "deletable": false,
    "editable": false
   },
   "source": [
    "**3.3** Could you still estimate the probabilities above if the distribution was actually negatively skewed by the presence of some shorter distance jumps?"
   ]
  },
  {
   "cell_type": "markdown",
   "metadata": {},
   "source": [
    "YOUR ANSWER HERE"
   ]
  },
  {
   "cell_type": "markdown",
   "metadata": {
    "deletable": false,
    "editable": false
   },
   "source": [
    "### 4. Construct your own problem: [#probability, #distributions, #pythonprogramming] \n",
    "Write (and solve) a probability problem based on the data collected. The analysis should contain multiple parts, enough to demonstrate deep knowledge of all three LOs: #probability, #distributions, and #pythonprogramming. It must also involve computations done both analytically and via simulation. Note that the same problem can be approached using multiple techniques. \n",
    "\n",
    "* Discuss the context: explain the game you choose and what you measured. \n",
    "* Discuss all assumptions made and any potential flaws in your analysis. \n",
    "* This (mostly complete) [model problem](https://drive.google.com/file/d/1Q2iSLhdsJuoo0R50CxjXjFbIw2Iaejej/view) is an example of what you could do. Do not copy this example exactly. \n",
    "* If you’d like more ideas on what you could calculate, use textbook problems and class activities for inspiration, and brainstorm with your classmates or your professor.\n",
    "\n",
    "**Notes:**\n",
    "\n",
    "* The calculation may require some information not obtained in your data collection. You can make additional assumptions as long as the problem still uses your observation in some way.\n",
    "* Your problem and solution can have multiple parts but should not be much longer than the model problem provided.\n",
    "* Choose an appropriate level of difficulty. The problem should be solvable by your classmates. If your analysis involves a distribution or concept not covered in class, include an [APA citation](http://www.citationmachine.net/apa/cite-a-book) as well as a description of the distribution and its relevance for the problem."
   ]
  },
  {
   "cell_type": "markdown",
   "metadata": {},
   "source": [
    "YOUR ANSWER HERE"
   ]
  },
  {
   "cell_type": "code",
   "execution_count": null,
   "metadata": {},
   "outputs": [],
   "source": [
    "# YOUR CODE HERE\n",
    "raise NotImplementedError()"
   ]
  },
  {
   "cell_type": "markdown",
   "metadata": {
    "deletable": false,
    "editable": false
   },
   "source": [
    "### PYTHON TIPS\n",
    "Part of the purpose of this assignment is to expose you to and give you practice in using tools for working with data in Python. The following may be useful.\n",
    "\n",
    "* Your peer tutors and professors are here to help! \n",
    "* As a best practice, your graphics in Jupyter notebooks should be ‘inline.’ If your version does not do this automatically, include %matplotlib inline at the top of your script.\n",
    "* Reminder: no matter what, your code needs comments."
   ]
  }
 ],
 "metadata": {
  "celltoolbar": "Edit Metadata",
  "kernelspec": {
   "display_name": "Python 3",
   "language": "python",
   "name": "python3"
  },
  "language_info": {
   "codemirror_mode": {
    "name": "ipython",
    "version": 3
   },
   "file_extension": ".py",
   "mimetype": "text/x-python",
   "name": "python",
   "nbconvert_exporter": "python",
   "pygments_lexer": "ipython3",
   "version": "3.7.6"
  }
 },
 "nbformat": 4,
 "nbformat_minor": 4
}
